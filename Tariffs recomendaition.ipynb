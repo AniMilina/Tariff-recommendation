{
 "cells": [
  {
   "cell_type": "markdown",
   "metadata": {},
   "source": [
    "# Рекомендация тарифов"
   ]
  },
  {
   "cell_type": "markdown",
   "metadata": {},
   "source": [
    "В нашем распоряжении данные о поведении клиентов, которые уже перешли на эти тарифы (из проекта «Статистический анализ данных»). Нужно построить модель для задачи классификации, которая выберет подходящий тариф. Предобработка данных не понадобится — мы её уже сделали.\n",
    "\n",
    "Построим модель с максимально большим значением *accuracy*. Чтобы сдать проект успешно, нужно довести долю правильных ответов по крайней мере до 0.75. Проверим *accuracy* на тестовой выборке."
   ]
  },
  {
   "cell_type": "markdown",
   "metadata": {},
   "source": [
    "## Откроем и изучим файл"
   ]
  },
  {
   "cell_type": "markdown",
   "metadata": {},
   "source": [
    "Импортируем библиотеки."
   ]
  },
  {
   "cell_type": "code",
   "execution_count": 15,
   "metadata": {},
   "outputs": [],
   "source": [
    "import pandas as pd\n",
    "import math\n",
    "import sklearn\n",
    "import warnings\n",
    "warnings.filterwarnings('ignore')\n",
    "import numpy as np\n",
    "import random\n",
    "from sklearn.model_selection import train_test_split\n",
    "from sklearn.tree import DecisionTreeClassifier\n",
    "from sklearn.metrics import accuracy_score\n",
    "from sklearn.ensemble import RandomForestClassifier\n",
    "from sklearn.linear_model import LogisticRegression\n",
    "from sklearn.datasets import load_iris\n",
    "import matplotlib.pyplot as plt\n",
    "import numpy as np\n",
    "from sklearn.dummy import DummyClassifier"
   ]
  },
  {
   "cell_type": "markdown",
   "metadata": {},
   "source": [
    "Прочитаем файл с данными."
   ]
  },
  {
   "cell_type": "code",
   "execution_count": 16,
   "metadata": {},
   "outputs": [],
   "source": [
    "df = pd.read_csv('/datasets/users_behavior.csv')"
   ]
  },
  {
   "cell_type": "markdown",
   "metadata": {},
   "source": [
    "Изучим информацию о датафрейме и его первые 5 строк:"
   ]
  },
  {
   "cell_type": "code",
   "execution_count": 17,
   "metadata": {},
   "outputs": [
    {
     "name": "stdout",
     "output_type": "stream",
     "text": [
      "<class 'pandas.core.frame.DataFrame'>\n",
      "RangeIndex: 3214 entries, 0 to 3213\n",
      "Data columns (total 5 columns):\n",
      " #   Column    Non-Null Count  Dtype  \n",
      "---  ------    --------------  -----  \n",
      " 0   calls     3214 non-null   float64\n",
      " 1   minutes   3214 non-null   float64\n",
      " 2   messages  3214 non-null   float64\n",
      " 3   mb_used   3214 non-null   float64\n",
      " 4   is_ultra  3214 non-null   int64  \n",
      "dtypes: float64(4), int64(1)\n",
      "memory usage: 125.7 KB\n",
      "None\n"
     ]
    },
    {
     "data": {
      "text/html": [
       "<div>\n",
       "<style scoped>\n",
       "    .dataframe tbody tr th:only-of-type {\n",
       "        vertical-align: middle;\n",
       "    }\n",
       "\n",
       "    .dataframe tbody tr th {\n",
       "        vertical-align: top;\n",
       "    }\n",
       "\n",
       "    .dataframe thead th {\n",
       "        text-align: right;\n",
       "    }\n",
       "</style>\n",
       "<table border=\"1\" class=\"dataframe\">\n",
       "  <thead>\n",
       "    <tr style=\"text-align: right;\">\n",
       "      <th></th>\n",
       "      <th>calls</th>\n",
       "      <th>minutes</th>\n",
       "      <th>messages</th>\n",
       "      <th>mb_used</th>\n",
       "      <th>is_ultra</th>\n",
       "    </tr>\n",
       "  </thead>\n",
       "  <tbody>\n",
       "    <tr>\n",
       "      <th>0</th>\n",
       "      <td>40.0</td>\n",
       "      <td>311.90</td>\n",
       "      <td>83.0</td>\n",
       "      <td>19915.42</td>\n",
       "      <td>0</td>\n",
       "    </tr>\n",
       "    <tr>\n",
       "      <th>1</th>\n",
       "      <td>85.0</td>\n",
       "      <td>516.75</td>\n",
       "      <td>56.0</td>\n",
       "      <td>22696.96</td>\n",
       "      <td>0</td>\n",
       "    </tr>\n",
       "    <tr>\n",
       "      <th>2</th>\n",
       "      <td>77.0</td>\n",
       "      <td>467.66</td>\n",
       "      <td>86.0</td>\n",
       "      <td>21060.45</td>\n",
       "      <td>0</td>\n",
       "    </tr>\n",
       "    <tr>\n",
       "      <th>3</th>\n",
       "      <td>106.0</td>\n",
       "      <td>745.53</td>\n",
       "      <td>81.0</td>\n",
       "      <td>8437.39</td>\n",
       "      <td>1</td>\n",
       "    </tr>\n",
       "    <tr>\n",
       "      <th>4</th>\n",
       "      <td>66.0</td>\n",
       "      <td>418.74</td>\n",
       "      <td>1.0</td>\n",
       "      <td>14502.75</td>\n",
       "      <td>0</td>\n",
       "    </tr>\n",
       "  </tbody>\n",
       "</table>\n",
       "</div>"
      ],
      "text/plain": [
       "   calls  minutes  messages   mb_used  is_ultra\n",
       "0   40.0   311.90      83.0  19915.42         0\n",
       "1   85.0   516.75      56.0  22696.96         0\n",
       "2   77.0   467.66      86.0  21060.45         0\n",
       "3  106.0   745.53      81.0   8437.39         1\n",
       "4   66.0   418.74       1.0  14502.75         0"
      ]
     },
     "execution_count": 17,
     "metadata": {},
     "output_type": "execute_result"
    }
   ],
   "source": [
    "print(df.info())\n",
    "df.head()"
   ]
  },
  {
   "cell_type": "markdown",
   "metadata": {},
   "source": [
    "Пропуски отсутствуют.\n",
    "\n",
    "Сменим тип данных для столбцов \"calls\" и \"messages\" на целые числа, для удобства восприятия и расчетов в дальнейшем."
   ]
  },
  {
   "cell_type": "markdown",
   "metadata": {},
   "source": [
    "**Вывод:**\n",
    "\n",
    "Данные не нуждаются в дополнительной обработке     "
   ]
  },
  {
   "cell_type": "code",
   "execution_count": 18,
   "metadata": {},
   "outputs": [],
   "source": [
    "df['calls'] = df['calls'].astype('int64')\n",
    "df['messages'] = df['messages'].astype('int64')"
   ]
  },
  {
   "cell_type": "code",
   "execution_count": 19,
   "metadata": {},
   "outputs": [
    {
     "name": "stdout",
     "output_type": "stream",
     "text": [
      "             calls   minutes  messages   mb_used  is_ultra\n",
      "calls     1.000000  0.982083  0.177385  0.286442  0.207122\n",
      "minutes   0.982083  1.000000  0.173110  0.280967  0.206955\n",
      "messages  0.177385  0.173110  1.000000  0.195721  0.203830\n",
      "mb_used   0.286442  0.280967  0.195721  1.000000  0.198568\n",
      "is_ultra  0.207122  0.206955  0.203830  0.198568  1.000000\n"
     ]
    },
    {
     "data": {
      "image/png": "[encoded data removed]",
      "text/plain": [
       "<Figure size 504x504 with 25 Axes>"
      ]
     },
     "metadata": {
      "needs_background": "light"
     },
     "output_type": "display_data"
    }
   ],
   "source": [
    "hwa = pd.read_csv('/datasets/users_behavior.csv')\n",
    "pd.plotting.scatter_matrix(hwa, figsize=(7, 7)) \n",
    "\n",
    "print(hwa.corr())  "
   ]
  },
  {
   "cell_type": "markdown",
   "metadata": {},
   "source": [
    "* Связь calls и calls указывает на то, что пользователи совершают более 200 звонков \n",
    "* Расход минут до 1000 расположен в количестве звонков до 200\n",
    "* Основная масса сообщений до 100 отправляется пользователями которые тратят до 1000 минут и 3000 мегабайтов \n",
    "\n",
    "Что указывает на то, что пользователи чаще укладываются в лимиты тарифа. И то, что пользователи отдают предпочтение тарифу \"Ультра\""
   ]
  },
  {
   "cell_type": "markdown",
   "metadata": {},
   "source": [
    "## Разбъём данные на выборки"
   ]
  },
  {
   "cell_type": "markdown",
   "metadata": {},
   "source": [
    "Разобъем данные на три выборки:  \n",
    "* обучающую  \n",
    "* валидационную  \n",
    "* тестовую"
   ]
  },
  {
   "cell_type": "code",
   "execution_count": 20,
   "metadata": {},
   "outputs": [
    {
     "name": "stdout",
     "output_type": "stream",
     "text": [
      "Классы датасета: [0 0 0 0 0 0 0 0 0 0 0 0 0 0 0 0 0 0 0 0 0 0 0 0 0 0 0 0 0 0 0 0 0 0 0 0 0\n",
      " 0 0 0 0 0 0 0 0 0 0 0 0 0 1 1 1 1 1 1 1 1 1 1 1 1 1 1 1 1 1 1 1 1 1 1 1 1\n",
      " 1 1 1 1 1 1 1 1 1 1 1 1 1 1 1 1 1 1 1 1 1 1 1 1 1 1 2 2 2 2 2 2 2 2 2 2 2\n",
      " 2 2 2 2 2 2 2 2 2 2 2 2 2 2 2 2 2 2 2 2 2 2 2 2 2 2 2 2 2 2 2 2 2 2 2 2 2\n",
      " 2 2]\n"
     ]
    }
   ],
   "source": [
    "#Убедимся в том, что наши экземпляры не разбиты на выборки по классам:\n",
    "iris = load_iris()\n",
    "df_train, df_test = iris.data, iris.target\n",
    "\n",
    "print(f\"Классы датасета: {iris.target}\")"
   ]
  },
  {
   "cell_type": "markdown",
   "metadata": {},
   "source": [
    "Такой набор данных с тремя классами при равном числе экземпляров в каждом разделить на две выборки: 2/3 для обучения и 1/3 для тестирования, то полученные поднаборы будут иметь нулевое пересечение классовых меток. Это, очевидно, недопустимо при изучении признаков для предсказания классов. Необходимо это исправить."
   ]
  },
  {
   "cell_type": "code",
   "execution_count": 21,
   "metadata": {},
   "outputs": [
    {
     "name": "stdout",
     "output_type": "stream",
     "text": [
      "Классы в y_train:\n",
      "      calls  minutes  messages   mb_used  is_ultra\n",
      "1968     98   738.62        79  21298.68         0\n",
      "2938     41   310.21        16  14083.64         0\n",
      "523     102   658.41        23  21392.68         0\n",
      "2280    108   747.39        96  36266.22         0\n",
      "1428     68   453.91        48  17788.66         0\n",
      "...     ...      ...       ...       ...       ...\n",
      "1095     62   454.02        35  15018.46         0\n",
      "1130     69   465.96        12  14982.27         0\n",
      "1294     40   280.44         2  13934.54         0\n",
      "860      72   410.23        68  16006.55         0\n",
      "3174     79   537.10        25  21223.37         0\n",
      "\n",
      "[803 rows x 5 columns]\n",
      "Классы в y_test:\n",
      "      calls  minutes  messages   mb_used  is_ultra\n",
      "506      46   338.60        35  11428.54         0\n",
      "2513     39   242.71         0  20480.11         0\n",
      "354      39   258.02         0  19998.80         0\n",
      "1080     36   230.99        19  23525.07         1\n",
      "2389     35   205.35        52  35177.94         1\n",
      "...     ...      ...       ...       ...       ...\n",
      "3070     45   329.33        82  18377.13         0\n",
      "2296    164  1192.74        58  27231.16         1\n",
      "1836     47   369.40        11  10523.88         0\n",
      "1753     40   277.55         0  32472.13         1\n",
      "1101     91   563.40        60  11109.03         0\n",
      "\n",
      "[2411 rows x 5 columns]\n"
     ]
    }
   ],
   "source": [
    "df_train, df_test = train_test_split(df, train_size=0.25, random_state= 42)\n",
    "\n",
    "print(f\"Классы в y_train:\\n{df_train}\")\n",
    "print(f\"Классы в y_test:\\n{df_test}\")"
   ]
  },
  {
   "cell_type": "code",
   "execution_count": 22,
   "metadata": {},
   "outputs": [],
   "source": [
    "df_train, df_divide = train_test_split(df, test_size=0.25, random_state=12345) \n",
    "\n",
    "df_valid, df_test = train_test_split(df_divide, test_size=0.50, random_state=12345)"
   ]
  },
  {
   "cell_type": "code",
   "execution_count": 23,
   "metadata": {},
   "outputs": [
    {
     "name": "stdout",
     "output_type": "stream",
     "text": [
      "(3214, 5)\n"
     ]
    }
   ],
   "source": [
    "print(df.shape) "
   ]
  },
  {
   "cell_type": "markdown",
   "metadata": {},
   "source": [
    "## Исследуем модели"
   ]
  },
  {
   "cell_type": "markdown",
   "metadata": {},
   "source": [
    "Целевой признак определим в переменной с обозначением target, а остальные разместим в features:"
   ]
  },
  {
   "cell_type": "code",
   "execution_count": 11,
   "metadata": {},
   "outputs": [],
   "source": [
    "# Для обучающего датафрейма\n",
    "features_train = df_train.drop(['is_ultra'], axis=1)\n",
    "target_train = df_train['is_ultra']\n",
    "\n",
    "# Для валидационного датафрейма\n",
    "features_valid = df_valid.drop(['is_ultra'], axis=1)  \n",
    "target_valid = df_valid['is_ultra']"
   ]
  },
  {
   "cell_type": "markdown",
   "metadata": {},
   "source": [
    "Начнем с исследования модели дерева принятия решений."
   ]
  },
  {
   "cell_type": "markdown",
   "metadata": {},
   "source": [
    "Оценим в цикле долю правильных ответов для разных глубин дерева принятия решений:"
   ]
  },
  {
   "cell_type": "code",
   "execution_count": 12,
   "metadata": {},
   "outputs": [
    {
     "name": "stdout",
     "output_type": "stream",
     "text": [
      "max_depth = 1 : 0.7637\n",
      "max_depth = 2 : 0.7935\n",
      "max_depth = 3 : 0.7985\n",
      "max_depth = 4 : 0.8035\n",
      "max_depth = 5 : 0.8035\n",
      "max_depth = 6 : 0.7861\n",
      "max_depth = 7 : 0.7935\n",
      "max_depth = 8 : 0.7910\n",
      "max_depth = 9 : 0.7960\n"
     ]
    }
   ],
   "source": [
    "for depth in range(1,10):\n",
    "    model = DecisionTreeClassifier(random_state=0, max_depth=depth, min_samples_split= 100)\n",
    "    model.fit(features_train, target_train)\n",
    "    predictions = model.predict(features_valid)\n",
    "    accuracy = accuracy_score(target_valid, predictions)\n",
    "    print('max_depth =',depth,': {:.4f}'.format(accuracy))"
   ]
  },
  {
   "cell_type": "markdown",
   "metadata": {},
   "source": [
    "Проверив разные варианты глубины лучший показатель 8035 начинался с 8. "
   ]
  },
  {
   "cell_type": "markdown",
   "metadata": {},
   "source": [
    "Оценим в цикле долю правильных ответов для разного количества оценщиков:"
   ]
  },
  {
   "cell_type": "code",
   "execution_count": null,
   "metadata": {},
   "outputs": [],
   "source": [
    "%%time\n",
    "for estimators in range(2,16):\n",
    "    model = RandomForestClassifier(random_state=7529, n_estimators=estimators, max_depth=10)\n",
    "    model.fit(features_train, target_train)\n",
    "    predictions = model.predict(features_valid)\n",
    "    accuracy = accuracy_score(target_valid, predictions)\n",
    "    print('n_estimators =',estimators,': {:.4f}'.format(accuracy))"
   ]
  },
  {
   "cell_type": "markdown",
   "metadata": {},
   "source": [
    "Лучший результат у модели 9 accuracy 0.8134  "
   ]
  },
  {
   "cell_type": "code",
   "execution_count": null,
   "metadata": {
    "scrolled": true
   },
   "outputs": [],
   "source": [
    "predictions = model.predict(features_valid)\n",
    "accuracy = accuracy_score(target_valid, predictions)\n",
    "accuracy"
   ]
  },
  {
   "cell_type": "markdown",
   "metadata": {},
   "source": [
    "Результат хуже, но и эту модель проверим на тестовой выборке.\n",
    "\n",
    "Перейдем к логистической регрессии:"
   ]
  },
  {
   "cell_type": "code",
   "execution_count": null,
   "metadata": {},
   "outputs": [],
   "source": [
    "model = LogisticRegression(random_state=12345)\n",
    "\n",
    "model.fit(features_train, target_train)\n",
    "\n",
    "predictions = model.predict(features_valid)\n",
    "\n",
    "accuracy = accuracy_score(target_valid, predictions)\n",
    "\n",
    "accuracy"
   ]
  },
  {
   "cell_type": "markdown",
   "metadata": {},
   "source": [
    "Результат показал себя хуже, чем предыдущие: Случайного и Решающего деревьев. "
   ]
  },
  {
   "cell_type": "markdown",
   "metadata": {},
   "source": [
    "**Вывод:**  \n",
    "\n",
    "Таким образом мы обучили модель дерева принятия решений и получили максимальный результат 10 = 0.7960. Далее обучили модель случайного леса, где макимальным был результат 9 = 0.8134. \n",
    "\n",
    "При обучении модели логической регрессии результат оказался наихудшим по сравнению с предыдущими."
   ]
  },
  {
   "cell_type": "markdown",
   "metadata": {},
   "source": [
    "## Проверьте модель на тестовой выборке"
   ]
  },
  {
   "cell_type": "markdown",
   "metadata": {},
   "source": [
    "Перед проверкой модели разделим наш тестовый датафрейм на features и target:"
   ]
  },
  {
   "cell_type": "code",
   "execution_count": null,
   "metadata": {},
   "outputs": [],
   "source": [
    "features_test = df_test.drop(['is_ultra'], axis=1)  \n",
    "target_test = df_test['is_ultra']"
   ]
  },
  {
   "cell_type": "markdown",
   "metadata": {},
   "source": [
    "Проверим модель на тестовой выборке:"
   ]
  },
  {
   "cell_type": "code",
   "execution_count": null,
   "metadata": {},
   "outputs": [],
   "source": [
    "model = RandomForestClassifier(random_state=7529, n_estimators=10, max_depth=9)\n",
    "\n",
    "\n",
    "model.fit(features_train, target_train)\n",
    "predictions = model.predict(features_test)\n",
    "\n",
    "accuracy = accuracy_score(target_test, predictions)\n",
    "\n",
    "print('accuracy =','{:.4f}'.format(accuracy))"
   ]
  },
  {
   "cell_type": "markdown",
   "metadata": {},
   "source": [
    "Проверим модель rs с гиперпараметрами, подобранными случайным поиском на тестовой выборке:"
   ]
  },
  {
   "cell_type": "code",
   "execution_count": null,
   "metadata": {},
   "outputs": [],
   "source": [
    "predictions = model.predict(features_test)\n",
    "accuracy = accuracy_score(target_test, predictions)\n",
    "\n",
    "print('accuracy =','{:.4f}'.format(accuracy))"
   ]
  },
  {
   "cell_type": "markdown",
   "metadata": {},
   "source": [
    "Модель со случайными гиперпараметры показала результат выше, чем с точными данными по глубине и количеству оценщиков. Но обе преодолели планку в 0.75"
   ]
  },
  {
   "cell_type": "markdown",
   "metadata": {},
   "source": [
    "## (бонус) Проверьте модели на адекватность"
   ]
  },
  {
   "cell_type": "code",
   "execution_count": null,
   "metadata": {},
   "outputs": [],
   "source": [
    "dummy_clf = DummyClassifier(strategy=\"most_frequent\")\n",
    "dummy_clf.fit(features_train, target_train)\n",
    "DummyClassifier(strategy='predictions')\n",
    "dummy_clf.predict(features_test)\n",
    "\n",
    "dummy_clf.score(features_train, target_train)"
   ]
  },
  {
   "cell_type": "code",
   "execution_count": null,
   "metadata": {},
   "outputs": [],
   "source": [
    "random_predictions = np.random.randint(low = 0, high = 2, size = 402)  \n",
    "accuracy = accuracy_score(target_test, random_predictions)\n",
    "\n",
    "print('accuracy =','{:.4f}'.format(accuracy))"
   ]
  }
 ],
 "metadata": {
  "ExecuteTimeLog": [
   {
    "duration": 1043,
    "start_time": "2022-11-10T10:10:17.263Z"
   },
   {
    "duration": 260,
    "start_time": "2022-11-10T10:19:42.394Z"
   },
   {
    "duration": 152,
    "start_time": "2022-11-10T10:19:45.447Z"
   },
   {
    "duration": 36,
    "start_time": "2022-11-10T10:20:07.548Z"
   },
   {
    "duration": 39,
    "start_time": "2022-11-10T10:20:09.905Z"
   },
   {
    "duration": 4,
    "start_time": "2022-11-10T10:21:51.663Z"
   },
   {
    "duration": 6,
    "start_time": "2022-11-10T10:21:53.101Z"
   },
   {
    "duration": 35,
    "start_time": "2022-11-10T10:24:20.742Z"
   },
   {
    "duration": 6,
    "start_time": "2022-11-10T10:25:04.508Z"
   },
   {
    "duration": 6,
    "start_time": "2022-11-10T10:25:45.567Z"
   },
   {
    "duration": 43,
    "start_time": "2022-11-10T10:25:46.444Z"
   },
   {
    "duration": 122,
    "start_time": "2022-11-10T10:25:47.436Z"
   },
   {
    "duration": 15,
    "start_time": "2022-11-10T10:26:41.631Z"
   },
   {
    "duration": 435,
    "start_time": "2022-11-10T10:26:53.071Z"
   },
   {
    "duration": 6092,
    "start_time": "2022-11-10T10:27:32.973Z"
   },
   {
    "duration": 6,
    "start_time": "2022-11-10T10:28:03.353Z"
   },
   {
    "duration": 17,
    "start_time": "2022-11-10T10:28:18.099Z"
   },
   {
    "duration": 32,
    "start_time": "2022-11-10T10:29:11.271Z"
   },
   {
    "duration": 5,
    "start_time": "2022-11-10T10:30:10.907Z"
   },
   {
    "duration": 4,
    "start_time": "2022-11-10T10:30:12.920Z"
   },
   {
    "duration": 44,
    "start_time": "2022-11-10T10:30:39.983Z"
   },
   {
    "duration": 10,
    "start_time": "2022-11-10T10:31:17.759Z"
   },
   {
    "duration": 50,
    "start_time": "2022-11-10T10:31:53.704Z"
   },
   {
    "duration": 6,
    "start_time": "2022-11-10T10:32:33.466Z"
   },
   {
    "duration": 6,
    "start_time": "2022-11-10T11:18:37.483Z"
   },
   {
    "duration": 5,
    "start_time": "2022-11-10T11:23:40.476Z"
   },
   {
    "duration": 2,
    "start_time": "2022-11-10T14:49:33.104Z"
   },
   {
    "duration": 143,
    "start_time": "2022-11-10T14:49:35.043Z"
   },
   {
    "duration": 3,
    "start_time": "2022-11-10T14:52:16.074Z"
   },
   {
    "duration": 130,
    "start_time": "2022-11-10T14:52:17.108Z"
   },
   {
    "duration": 527,
    "start_time": "2022-11-10T14:58:07.508Z"
   },
   {
    "duration": 3,
    "start_time": "2022-11-10T15:03:07.990Z"
   },
   {
    "duration": 2,
    "start_time": "2022-11-10T15:03:09.322Z"
   },
   {
    "duration": 11,
    "start_time": "2022-11-10T15:03:10.498Z"
   },
   {
    "duration": 174,
    "start_time": "2022-11-10T15:07:30.654Z"
   },
   {
    "duration": 279,
    "start_time": "2022-11-10T15:38:01.217Z"
   },
   {
    "duration": 149,
    "start_time": "2022-11-10T15:38:14.386Z"
   },
   {
    "duration": 44,
    "start_time": "2022-11-10T15:54:26.280Z"
   },
   {
    "duration": 10,
    "start_time": "2022-11-10T15:56:09.759Z"
   },
   {
    "duration": 50,
    "start_time": "2022-11-10T15:59:14.596Z"
   },
   {
    "duration": 11,
    "start_time": "2022-11-10T15:59:26.070Z"
   },
   {
    "duration": 23,
    "start_time": "2022-11-10T16:03:20.134Z"
   },
   {
    "duration": 5,
    "start_time": "2022-11-10T16:03:32.863Z"
   },
   {
    "duration": 13,
    "start_time": "2022-11-10T16:03:46.850Z"
   },
   {
    "duration": 5,
    "start_time": "2022-11-10T16:04:48.230Z"
   },
   {
    "duration": 1566,
    "start_time": "2022-11-10T16:26:30.401Z"
   },
   {
    "duration": 49,
    "start_time": "2022-11-10T16:26:31.969Z"
   },
   {
    "duration": 23,
    "start_time": "2022-11-10T16:26:32.019Z"
   },
   {
    "duration": 11,
    "start_time": "2022-11-10T16:26:32.043Z"
   },
   {
    "duration": 49,
    "start_time": "2022-11-10T16:26:32.055Z"
   },
   {
    "duration": 5,
    "start_time": "2022-11-10T16:26:32.105Z"
   },
   {
    "duration": 50,
    "start_time": "2022-11-10T16:26:32.111Z"
   },
   {
    "duration": 145,
    "start_time": "2022-11-10T16:26:32.163Z"
   },
   {
    "duration": 520,
    "start_time": "2022-11-10T16:26:32.309Z"
   },
   {
    "duration": 107,
    "start_time": "2022-11-10T16:26:32.832Z"
   },
   {
    "duration": 0,
    "start_time": "2022-11-10T16:26:32.941Z"
   },
   {
    "duration": 0,
    "start_time": "2022-11-10T16:26:32.942Z"
   },
   {
    "duration": 0,
    "start_time": "2022-11-10T16:26:32.943Z"
   },
   {
    "duration": 0,
    "start_time": "2022-11-10T16:26:32.944Z"
   },
   {
    "duration": 0,
    "start_time": "2022-11-10T16:26:32.945Z"
   },
   {
    "duration": 175,
    "start_time": "2022-11-10T16:27:40.393Z"
   },
   {
    "duration": 6,
    "start_time": "2022-11-10T16:27:43.521Z"
   },
   {
    "duration": 43,
    "start_time": "2022-11-10T16:27:44.081Z"
   },
   {
    "duration": 9,
    "start_time": "2022-11-10T16:27:46.665Z"
   },
   {
    "duration": 19,
    "start_time": "2022-11-10T16:27:50.146Z"
   },
   {
    "duration": 13,
    "start_time": "2022-11-10T16:28:40.920Z"
   },
   {
    "duration": 3,
    "start_time": "2022-11-10T17:13:13.114Z"
   },
   {
    "duration": 33,
    "start_time": "2022-11-10T17:13:15.949Z"
   },
   {
    "duration": 19,
    "start_time": "2022-11-10T17:13:18.285Z"
   },
   {
    "duration": 5,
    "start_time": "2022-11-10T17:13:22.131Z"
   },
   {
    "duration": 6,
    "start_time": "2022-11-10T17:13:25.402Z"
   },
   {
    "duration": 8,
    "start_time": "2022-11-10T17:13:28.293Z"
   },
   {
    "duration": 3,
    "start_time": "2022-11-10T17:13:30.970Z"
   },
   {
    "duration": 137,
    "start_time": "2022-11-10T17:13:33.185Z"
   },
   {
    "duration": 557,
    "start_time": "2022-11-10T17:14:13.974Z"
   },
   {
    "duration": 10,
    "start_time": "2022-11-10T17:14:44.143Z"
   },
   {
    "duration": 77,
    "start_time": "2022-11-10T17:15:13.658Z"
   },
   {
    "duration": 4,
    "start_time": "2022-11-10T17:15:33.241Z"
   },
   {
    "duration": 45,
    "start_time": "2022-11-10T17:15:35.479Z"
   },
   {
    "duration": 9,
    "start_time": "2022-11-10T17:15:45.086Z"
   },
   {
    "duration": 15,
    "start_time": "2022-11-10T17:15:49.073Z"
   },
   {
    "duration": 4,
    "start_time": "2022-11-10T17:16:05.079Z"
   },
   {
    "duration": 1254,
    "start_time": "2022-11-12T14:45:17.845Z"
   },
   {
    "duration": 62,
    "start_time": "2022-11-12T14:46:19.210Z"
   },
   {
    "duration": 26,
    "start_time": "2022-11-12T14:46:21.837Z"
   },
   {
    "duration": 4,
    "start_time": "2022-11-12T14:46:25.682Z"
   },
   {
    "duration": 66,
    "start_time": "2022-11-13T09:43:41.587Z"
   },
   {
    "duration": 1059,
    "start_time": "2022-11-13T09:43:45.515Z"
   },
   {
    "duration": 119,
    "start_time": "2022-11-13T09:43:49.668Z"
   },
   {
    "duration": 27,
    "start_time": "2022-11-13T09:43:52.185Z"
   },
   {
    "duration": 5,
    "start_time": "2022-11-13T09:43:55.274Z"
   },
   {
    "duration": 554,
    "start_time": "2022-11-13T09:44:07.311Z"
   },
   {
    "duration": 142,
    "start_time": "2022-11-13T09:44:26.105Z"
   },
   {
    "duration": 160,
    "start_time": "2022-11-13T09:44:34.547Z"
   },
   {
    "duration": 1461,
    "start_time": "2022-11-13T09:45:14.828Z"
   },
   {
    "duration": 833,
    "start_time": "2022-11-13T09:45:40.461Z"
   },
   {
    "duration": 936,
    "start_time": "2022-11-13T09:45:48.459Z"
   },
   {
    "duration": 147,
    "start_time": "2022-11-13T09:45:56.448Z"
   },
   {
    "duration": 136,
    "start_time": "2022-11-13T09:48:12.966Z"
   },
   {
    "duration": 31,
    "start_time": "2022-11-13T09:48:19.285Z"
   },
   {
    "duration": 28,
    "start_time": "2022-11-13T09:48:22.396Z"
   },
   {
    "duration": 5,
    "start_time": "2022-11-13T09:48:26.324Z"
   },
   {
    "duration": 144,
    "start_time": "2022-11-13T09:48:28.261Z"
   },
   {
    "duration": 196,
    "start_time": "2022-11-13T09:54:10.410Z"
   },
   {
    "duration": 189,
    "start_time": "2022-11-13T09:54:20.610Z"
   },
   {
    "duration": 193,
    "start_time": "2022-11-13T09:54:27.498Z"
   },
   {
    "duration": 188,
    "start_time": "2022-11-13T09:54:37.694Z"
   },
   {
    "duration": 195,
    "start_time": "2022-11-13T09:54:45.670Z"
   },
   {
    "duration": 197,
    "start_time": "2022-11-13T09:54:52.087Z"
   },
   {
    "duration": 220,
    "start_time": "2022-11-13T09:56:46.164Z"
   },
   {
    "duration": 190,
    "start_time": "2022-11-13T09:56:56.250Z"
   },
   {
    "duration": 195,
    "start_time": "2022-11-13T09:57:11.433Z"
   },
   {
    "duration": 300,
    "start_time": "2022-11-13T09:57:20.431Z"
   },
   {
    "duration": 146,
    "start_time": "2022-11-13T09:58:19.373Z"
   },
   {
    "duration": 134,
    "start_time": "2022-11-13T09:58:24.244Z"
   },
   {
    "duration": 147,
    "start_time": "2022-11-13T09:58:29.130Z"
   },
   {
    "duration": 51,
    "start_time": "2022-11-13T10:01:17.053Z"
   },
   {
    "duration": 45,
    "start_time": "2022-11-13T10:01:38.961Z"
   },
   {
    "duration": 1665,
    "start_time": "2022-11-13T10:02:05.104Z"
   },
   {
    "duration": 1420,
    "start_time": "2022-11-13T10:02:36.122Z"
   },
   {
    "duration": 1438,
    "start_time": "2022-11-13T10:05:27.241Z"
   },
   {
    "duration": 37,
    "start_time": "2022-11-13T10:20:39.616Z"
   },
   {
    "duration": 25,
    "start_time": "2022-11-13T10:21:35.113Z"
   },
   {
    "duration": 4,
    "start_time": "2022-11-13T10:21:45.197Z"
   },
   {
    "duration": 27,
    "start_time": "2022-11-13T10:21:47.937Z"
   },
   {
    "duration": 25,
    "start_time": "2022-11-13T10:21:51.426Z"
   },
   {
    "duration": 5,
    "start_time": "2022-11-13T10:21:54.975Z"
   },
   {
    "duration": 1486,
    "start_time": "2022-11-13T10:21:56.847Z"
   },
   {
    "duration": 13,
    "start_time": "2022-11-13T10:22:03.505Z"
   },
   {
    "duration": 6,
    "start_time": "2022-11-13T10:22:23.362Z"
   },
   {
    "duration": 7,
    "start_time": "2022-11-13T10:22:30.623Z"
   },
   {
    "duration": 4,
    "start_time": "2022-11-13T10:26:41.345Z"
   },
   {
    "duration": 5,
    "start_time": "2022-11-13T10:27:03.164Z"
   },
   {
    "duration": 5,
    "start_time": "2022-11-13T10:27:10.791Z"
   },
   {
    "duration": 12,
    "start_time": "2022-11-13T10:28:15.408Z"
   },
   {
    "duration": 13,
    "start_time": "2022-11-13T10:31:46.673Z"
   },
   {
    "duration": 24,
    "start_time": "2022-11-13T10:32:12.403Z"
   },
   {
    "duration": 6,
    "start_time": "2022-11-13T10:32:34.353Z"
   },
   {
    "duration": 19,
    "start_time": "2022-11-13T10:33:45.394Z"
   },
   {
    "duration": 4,
    "start_time": "2022-11-13T10:36:05.800Z"
   },
   {
    "duration": 5,
    "start_time": "2022-11-13T10:38:34.056Z"
   },
   {
    "duration": 101,
    "start_time": "2022-11-13T10:38:42.029Z"
   },
   {
    "duration": 86,
    "start_time": "2022-11-13T10:40:08.012Z"
   },
   {
    "duration": 87,
    "start_time": "2022-11-13T10:40:13.918Z"
   },
   {
    "duration": 76,
    "start_time": "2022-11-13T10:40:21.155Z"
   },
   {
    "duration": 76,
    "start_time": "2022-11-13T10:40:33.931Z"
   },
   {
    "duration": 75,
    "start_time": "2022-11-13T10:40:45.719Z"
   },
   {
    "duration": 95,
    "start_time": "2022-11-13T10:40:51.834Z"
   },
   {
    "duration": 76,
    "start_time": "2022-11-13T10:41:39.837Z"
   },
   {
    "duration": 84,
    "start_time": "2022-11-13T10:42:13.418Z"
   },
   {
    "duration": 72,
    "start_time": "2022-11-13T10:42:47.714Z"
   },
   {
    "duration": 49,
    "start_time": "2022-11-13T10:44:59.709Z"
   },
   {
    "duration": 48,
    "start_time": "2022-11-13T10:46:14.998Z"
   },
   {
    "duration": 50,
    "start_time": "2022-11-13T10:46:29.474Z"
   },
   {
    "duration": 995,
    "start_time": "2022-11-13T11:01:32.318Z"
   },
   {
    "duration": 3,
    "start_time": "2022-11-13T11:01:58.124Z"
   },
   {
    "duration": 3,
    "start_time": "2022-11-13T11:02:23.028Z"
   },
   {
    "duration": 4,
    "start_time": "2022-11-13T11:04:16.960Z"
   },
   {
    "duration": 27,
    "start_time": "2022-11-13T11:04:18.062Z"
   },
   {
    "duration": 18,
    "start_time": "2022-11-13T11:04:18.481Z"
   },
   {
    "duration": 6,
    "start_time": "2022-11-13T11:04:19.262Z"
   },
   {
    "duration": 1451,
    "start_time": "2022-11-13T11:04:19.786Z"
   },
   {
    "duration": 6,
    "start_time": "2022-11-13T11:04:23.120Z"
   },
   {
    "duration": 20,
    "start_time": "2022-11-13T11:04:25.296Z"
   },
   {
    "duration": 7,
    "start_time": "2022-11-13T11:05:08.571Z"
   },
   {
    "duration": 3,
    "start_time": "2022-11-13T11:05:08.907Z"
   },
   {
    "duration": 6,
    "start_time": "2022-11-13T11:05:11.851Z"
   },
   {
    "duration": 76,
    "start_time": "2022-11-13T11:05:18.898Z"
   },
   {
    "duration": 60,
    "start_time": "2022-11-13T11:05:31.809Z"
   },
   {
    "duration": 408,
    "start_time": "2022-11-13T11:05:51.562Z"
   },
   {
    "duration": 116,
    "start_time": "2022-11-13T11:05:58.091Z"
   },
   {
    "duration": 132,
    "start_time": "2022-11-13T11:13:02.699Z"
   },
   {
    "duration": 133,
    "start_time": "2022-11-13T11:15:52.930Z"
   },
   {
    "duration": 11,
    "start_time": "2022-11-13T11:20:07.912Z"
   },
   {
    "duration": 116,
    "start_time": "2022-11-13T11:20:21.823Z"
   },
   {
    "duration": 139,
    "start_time": "2022-11-13T11:21:02.963Z"
   },
   {
    "duration": 651,
    "start_time": "2022-11-13T11:21:32.059Z"
   },
   {
    "duration": 407,
    "start_time": "2022-11-13T11:22:13.962Z"
   },
   {
    "duration": 121,
    "start_time": "2022-11-13T11:22:21.243Z"
   },
   {
    "duration": 12,
    "start_time": "2022-11-13T11:22:32.655Z"
   },
   {
    "duration": 650,
    "start_time": "2022-11-13T11:23:57.129Z"
   },
   {
    "duration": 547,
    "start_time": "2022-11-13T11:26:50.736Z"
   },
   {
    "duration": 532,
    "start_time": "2022-11-13T11:27:28.784Z"
   },
   {
    "duration": 9,
    "start_time": "2022-11-13T11:28:03.343Z"
   },
   {
    "duration": 12,
    "start_time": "2022-11-13T11:28:23.313Z"
   },
   {
    "duration": 14,
    "start_time": "2022-11-13T11:28:44.870Z"
   },
   {
    "duration": 179,
    "start_time": "2022-11-13T11:29:22.204Z"
   },
   {
    "duration": 5,
    "start_time": "2022-11-13T11:32:49.460Z"
   },
   {
    "duration": 59,
    "start_time": "2022-11-13T11:32:52.390Z"
   },
   {
    "duration": 11,
    "start_time": "2022-11-13T11:33:04.977Z"
   },
   {
    "duration": 8,
    "start_time": "2022-11-13T11:33:28.323Z"
   },
   {
    "duration": 5,
    "start_time": "2022-11-13T11:33:41.681Z"
   },
   {
    "duration": 8,
    "start_time": "2022-11-13T11:45:10.398Z"
   },
   {
    "duration": 7,
    "start_time": "2022-11-13T11:45:18.076Z"
   },
   {
    "duration": 4,
    "start_time": "2022-11-13T11:46:00.383Z"
   },
   {
    "duration": 28,
    "start_time": "2022-11-13T11:46:01.442Z"
   },
   {
    "duration": 30,
    "start_time": "2022-11-13T11:46:01.858Z"
   },
   {
    "duration": 6,
    "start_time": "2022-11-13T11:46:02.456Z"
   },
   {
    "duration": 1355,
    "start_time": "2022-11-13T11:46:02.662Z"
   },
   {
    "duration": 6,
    "start_time": "2022-11-13T11:46:04.020Z"
   },
   {
    "duration": 14,
    "start_time": "2022-11-13T11:46:04.361Z"
   },
   {
    "duration": 7,
    "start_time": "2022-11-13T11:46:04.589Z"
   },
   {
    "duration": 3,
    "start_time": "2022-11-13T11:46:04.816Z"
   },
   {
    "duration": 6,
    "start_time": "2022-11-13T11:46:07.181Z"
   },
   {
    "duration": 83,
    "start_time": "2022-11-13T11:46:07.920Z"
   },
   {
    "duration": 547,
    "start_time": "2022-11-13T11:46:10.570Z"
   },
   {
    "duration": 11,
    "start_time": "2022-11-13T11:46:13.133Z"
   },
   {
    "duration": 149,
    "start_time": "2022-11-13T11:46:15.029Z"
   },
   {
    "duration": 5,
    "start_time": "2022-11-13T11:46:18.801Z"
   },
   {
    "duration": 49,
    "start_time": "2022-11-13T11:46:19.778Z"
   },
   {
    "duration": 12,
    "start_time": "2022-11-13T11:46:22.165Z"
   },
   {
    "duration": 6,
    "start_time": "2022-11-13T11:46:24.244Z"
   },
   {
    "duration": 7,
    "start_time": "2022-11-13T11:46:47.376Z"
   },
   {
    "duration": 1963,
    "start_time": "2022-11-13T13:02:21.515Z"
   },
   {
    "duration": 25,
    "start_time": "2022-11-13T13:02:23.479Z"
   },
   {
    "duration": 23,
    "start_time": "2022-11-13T13:02:23.505Z"
   },
   {
    "duration": 8,
    "start_time": "2022-11-13T13:02:23.530Z"
   },
   {
    "duration": 1424,
    "start_time": "2022-11-13T13:02:23.540Z"
   },
   {
    "duration": 7,
    "start_time": "2022-11-13T13:02:24.965Z"
   },
   {
    "duration": 18,
    "start_time": "2022-11-13T13:02:24.973Z"
   },
   {
    "duration": 29,
    "start_time": "2022-11-13T13:02:24.993Z"
   },
   {
    "duration": 4,
    "start_time": "2022-11-13T13:02:25.024Z"
   },
   {
    "duration": 9,
    "start_time": "2022-11-13T13:02:25.030Z"
   },
   {
    "duration": 91,
    "start_time": "2022-11-13T13:02:25.041Z"
   },
   {
    "duration": 535,
    "start_time": "2022-11-13T13:02:25.133Z"
   },
   {
    "duration": 9,
    "start_time": "2022-11-13T13:02:25.669Z"
   },
   {
    "duration": 244,
    "start_time": "2022-11-13T13:02:25.679Z"
   },
   {
    "duration": 99,
    "start_time": "2022-11-13T13:02:25.925Z"
   },
   {
    "duration": 53,
    "start_time": "2022-11-13T13:02:26.026Z"
   },
   {
    "duration": 7,
    "start_time": "2022-11-13T13:02:26.080Z"
   },
   {
    "duration": 6,
    "start_time": "2022-11-13T13:02:26.089Z"
   },
   {
    "duration": 27,
    "start_time": "2022-11-13T13:02:26.097Z"
   },
   {
    "duration": 708,
    "start_time": "2022-11-14T08:12:55.415Z"
   },
   {
    "duration": 1036,
    "start_time": "2022-11-14T08:13:01.898Z"
   },
   {
    "duration": 62,
    "start_time": "2022-11-14T08:13:02.936Z"
   },
   {
    "duration": 21,
    "start_time": "2022-11-14T08:13:03.000Z"
   },
   {
    "duration": 5,
    "start_time": "2022-11-14T08:13:03.024Z"
   },
   {
    "duration": 1557,
    "start_time": "2022-11-14T08:13:03.030Z"
   },
   {
    "duration": 8,
    "start_time": "2022-11-14T08:13:04.589Z"
   },
   {
    "duration": 17,
    "start_time": "2022-11-14T08:13:04.598Z"
   },
   {
    "duration": 5,
    "start_time": "2022-11-14T08:13:04.617Z"
   },
   {
    "duration": 5,
    "start_time": "2022-11-14T08:13:04.623Z"
   },
   {
    "duration": 6,
    "start_time": "2022-11-14T08:13:04.630Z"
   },
   {
    "duration": 70,
    "start_time": "2022-11-14T08:13:04.637Z"
   },
   {
    "duration": 64,
    "start_time": "2022-11-14T08:13:04.722Z"
   },
   {
    "duration": 0,
    "start_time": "2022-11-14T08:13:04.789Z"
   },
   {
    "duration": 0,
    "start_time": "2022-11-14T08:13:04.790Z"
   },
   {
    "duration": 0,
    "start_time": "2022-11-14T08:13:04.791Z"
   },
   {
    "duration": 0,
    "start_time": "2022-11-14T08:13:04.793Z"
   },
   {
    "duration": 0,
    "start_time": "2022-11-14T08:13:04.795Z"
   },
   {
    "duration": 0,
    "start_time": "2022-11-14T08:13:04.796Z"
   },
   {
    "duration": 0,
    "start_time": "2022-11-14T08:13:04.822Z"
   },
   {
    "duration": 0,
    "start_time": "2022-11-14T08:13:04.823Z"
   },
   {
    "duration": 16,
    "start_time": "2022-11-14T08:13:26.085Z"
   },
   {
    "duration": 4,
    "start_time": "2022-11-14T08:13:33.753Z"
   },
   {
    "duration": 24,
    "start_time": "2022-11-14T08:13:35.168Z"
   },
   {
    "duration": 18,
    "start_time": "2022-11-14T08:13:35.633Z"
   },
   {
    "duration": 5,
    "start_time": "2022-11-14T08:13:36.348Z"
   },
   {
    "duration": 1349,
    "start_time": "2022-11-14T08:13:36.598Z"
   },
   {
    "duration": 4,
    "start_time": "2022-11-14T08:13:38.539Z"
   },
   {
    "duration": 13,
    "start_time": "2022-11-14T08:13:39.103Z"
   },
   {
    "duration": 5,
    "start_time": "2022-11-14T08:13:40.044Z"
   },
   {
    "duration": 4,
    "start_time": "2022-11-14T08:13:40.528Z"
   }
  ],
  "kernelspec": {
   "display_name": "Python 3 (ipykernel)",
   "language": "python",
   "name": "python3"
  },
  "language_info": {
   "codemirror_mode": {
    "name": "ipython",
    "version": 3
   },
   "file_extension": ".py",
   "mimetype": "text/x-python",
   "name": "python",
   "nbconvert_exporter": "python",
   "pygments_lexer": "ipython3",
   "version": "3.9.5"
  },
  "toc": {
   "base_numbering": 1,
   "nav_menu": {},
   "number_sections": true,
   "sideBar": true,
   "skip_h1_title": true,
   "title_cell": "Table of Contents",
   "title_sidebar": "Contents",
   "toc_cell": false,
   "toc_position": {},
   "toc_section_display": true,
   "toc_window_display": false
  }
 },
 "nbformat": 4,
 "nbformat_minor": 2
}
